{
  "nbformat": 4,
  "nbformat_minor": 0,
  "metadata": {
    "colab": {
      "provenance": [],
      "authorship_tag": "ABX9TyP//P9v4XGuxX/3kPa0sseN"
    },
    "kernelspec": {
      "name": "python3",
      "display_name": "Python 3"
    },
    "language_info": {
      "name": "python"
    }
  },
  "cells": [
    {
      "cell_type": "code",
      "execution_count": 25,
      "metadata": {
        "id": "fTmjQe2M1bAc"
      },
      "outputs": [],
      "source": [
        "##Importing all our libraries\n",
        "\n",
        "from google.colab import userdata\n",
        "api_key = userdata.get('HUGGINGFACE_API_KEY')\n"
      ]
    },
    {
      "cell_type": "code",
      "source": [
        "prompt = \"Hi can u help me by giving a brief on the indus civilization?\""
      ],
      "metadata": {
        "id": "ohYR8Y8lJTnS"
      },
      "execution_count": 45,
      "outputs": []
    },
    {
      "cell_type": "code",
      "source": [
        "## Get the MystralAI model into my project\n",
        "from huggingface_hub import InferenceClient\n",
        "\n",
        "client = InferenceClient(\n",
        "    provider=\"hf-inference\",\n",
        "    api_key=api_key,\n",
        ")\n",
        "\n",
        "completion = client.chat.completions.create(\n",
        "    model=\"mistralai/Mistral-7B-Instruct-v0.3\",\n",
        "    messages=[\n",
        "\n",
        "        {\n",
        "            \"role\" : \"system\",\n",
        "            \"content\" : (\n",
        "                \"You are a helpful after hours teacher who help students with all their assignments and research.\"\n",
        "                \"You also take care of a student's well being and u help them by guiding them through studies and mental health\"\n",
        "              )\n",
        "        },\n",
        "         {\n",
        "            \"role\": \"user\",\n",
        "            \"content\": prompt\n",
        "        },\n",
        "    ],\n",
        ")\n",
        "\n",
        "print(completion.choices[0].message.content)"
      ],
      "metadata": {
        "colab": {
          "base_uri": "https://localhost:8080/"
        },
        "id": "SN1ASYdl2g9B",
        "outputId": "b6d11c52-3574-407a-aa2a-e67fbe4192fd"
      },
      "execution_count": 49,
      "outputs": [
        {
          "output_type": "stream",
          "name": "stdout",
          "text": [
            "Of course! I'd be happy to help!\n",
            "\n",
            "The Indus Valley Civilization, also known as the Harappan Civilization, was one of the world's earliest urban civilizations. It emerged in the northwestern region of the Indian subcontinent around 2600 BCE and flourished until around 1900 BCE.\n",
            "\n",
            "The Indus Valley Civilization was characterized by its well-planned cities with a grid-like street system, drainage system, and standardized weights and measures. Some of the most notable cities of this civilization include Harappa, Mohenjo-Daro, and Lothal.\n",
            "\n",
            "The people of the Indus Valley Civilization were primarily farmers and skilled workers who specialized in urban crafts such as pottery, copper-smelting, and textile production. Archaeologists have discovered elaborate seals and scriptures which suggest that the Indus Valley Civilization had a strong trading network that extended beyond the Indian subcontinent.\n",
            "\n",
            "One of the most interesting aspects of the Indus Valley Civilization is its architectural and urban planning. The cities were well-planned with roads, drainage systems, and public buildings such as the Great Bath of Mohenjo-Daro. The cities also had a system of sanitation and waste management, which was quite advanced for the time.\n",
            "\n",
            "Despite its many achievements, the Indus Valley Civilization gradually declined around 1900 BCE. The reasons for its decline are still a matter of debate among historians, but it is believed that changes in climate, overuse of the land, and the increase of invasions may have played a role.\n",
            "\n",
            "In terms of its impact on later civilizations, the Indus Valley Civilization has had a significant influence on the development of the Indian subcontinent. Many of the architectural styles and urban planning techniques that were developed during this time have been passed down through the ages and can still be seen in modern Indian cities today.\n",
            "\n",
            "I hope this brief overview was helpful! If you have any further questions, don't hesitate to ask. And remember, it's important to take care of yourself, both mentally and physically, while studying. Take breaks when you need to, and never hesitate to seek help if you're feeling overwhelmed.\n"
          ]
        }
      ]
    },
    {
      "cell_type": "code",
      "source": [],
      "metadata": {
        "id": "t4MAHj7s4IGQ"
      },
      "execution_count": null,
      "outputs": []
    }
  ]
}