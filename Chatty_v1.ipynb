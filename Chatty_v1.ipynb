{
  "cells": [
    {
      "cell_type": "code",
      "execution_count": 7,
      "metadata": {
        "id": "fTmjQe2M1bAc"
      },
      "outputs": [],
      "source": [
        "##Importing all our librariesimport os\n",
        "#from google.colab import userdata\n",
        "#api_key = userdata.get('HUGGINGFACE_API_KEY')\n",
        "from fastapi import FastAPI\n",
        "from pydantic import BaseModel\n",
        "import os\n",
        "from dotenv import load_dotenv\n",
        "load_dotenv()\n",
        "api_key = os.getenv(\"HUGGINGFACE_API_KEY\")\n"
      ]
    },
    {
      "cell_type": "code",
      "execution_count": 8,
      "metadata": {
        "id": "ohYR8Y8lJTnS"
      },
      "outputs": [],
      "source": [
        "app = FastAPI()\n",
        "class Message(BaseModel):\n",
        "    message: str"
      ]
    },
    {
      "cell_type": "code",
      "execution_count": 9,
      "metadata": {
        "colab": {
          "base_uri": "https://localhost:8080/"
        },
        "id": "SN1ASYdl2g9B",
        "outputId": "b6d11c52-3574-407a-aa2a-e67fbe4192fd"
      },
      "outputs": [],
      "source": [
        "## Get the MystralAI model into my project\n",
        "\n",
        "@app.post(\"/chat\")\n",
        "async def chat_endpoint(message: Message):\n",
        "    prompt = message.message\n",
        "    from huggingface_hub import InferenceClient\n",
        "\n",
        "    client = InferenceClient(\n",
        "        provider=\"hf-inference\",\n",
        "        api_key=api_key,\n",
        "    )\n",
        "\n",
        "    completion = client.chat.completions.create(\n",
        "        model=\"mistralai/Mistral-7B-Instruct-v0.3\",\n",
        "        messages=[\n",
        "            {\n",
        "                \"role\": \"system\",\n",
        "                \"content\": (\n",
        "                    \"You are a helpful after hours teacher who helps students with all their assignments and research.\"\n",
        "                    \"You also take care of a student's well-being and guide them through studies and mental health.\"\n",
        "                )\n",
        "            },\n",
        "            {\n",
        "                \"role\": \"user\",\n",
        "                \"content\": prompt\n",
        "            },\n",
        "        ],\n",
        "    )\n",
        "\n",
        "    return {\"response\": completion.choices[0].message.content}\n",
        "# from huggingface_hub import InferenceClient\n",
        "\n",
        "# client = InferenceClient(\n",
        "#     provider=\"hf-inference\",\n",
        "#     api_key=api_key,\n",
        "# )\n",
        "\n",
        "# completion = client.chat.completions.create(\n",
        "#     model=\"mistralai/Mistral-7B-Instruct-v0.3\",\n",
        "#     messages=[\n",
        "\n",
        "#         {\n",
        "#             \"role\" : \"system\",\n",
        "#             \"content\" : (\n",
        "#                 \"You are a helpful after hours teacher who help students with all their assignments and research.\"\n",
        "#                 \"You also take care of a student's well being and u help them by guiding them through studies and mental health\"\n",
        "#               )\n",
        "#         },\n",
        "#          {\n",
        "#             \"role\": \"user\",\n",
        "#             \"content\": prompt\n",
        "#         },\n",
        "#     ],\n",
        "# )\n",
        "\n",
        "# print(completion.choices[0].message.content)"
      ]
    },
    {
      "cell_type": "code",
      "execution_count": null,
      "metadata": {
        "id": "t4MAHj7s4IGQ"
      },
      "outputs": [],
      "source": []
    }
  ],
  "metadata": {
    "colab": {
      "authorship_tag": "ABX9TyP//P9v4XGuxX/3kPa0sseN",
      "provenance": []
    },
    "kernelspec": {
      "display_name": "Python 3",
      "name": "python3"
    },
    "language_info": {
      "codemirror_mode": {
        "name": "ipython",
        "version": 3
      },
      "file_extension": ".py",
      "mimetype": "text/x-python",
      "name": "python",
      "nbconvert_exporter": "python",
      "pygments_lexer": "ipython3",
      "version": "3.11.11"
    }
  },
  "nbformat": 4,
  "nbformat_minor": 0
}
